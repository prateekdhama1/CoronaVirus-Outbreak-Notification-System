{
 "cells": [
  {
   "cell_type": "code",
   "execution_count": null,
   "metadata": {},
   "outputs": [],
   "source": [
    "import requests\n",
    "from plyer import notification\n",
    "import time\n",
    "import bs4\n",
    "from win10toast import ToastNotifier\n",
    "\n",
    "\n",
    "def CovidUpdate():\n",
    "    result = requests.get(\"https://www.mohfw.gov.in/\")\n",
    "    soup = bs4.BeautifulSoup(result.text,\"lxml\")\n",
    "    code=soup.select('strong')\n",
    "    Active=(soup.find_all(\"strong\", class_=\"mob-hide\")[1].text)\n",
    "    Discharged=(soup.find_all(\"strong\", class_=\"mob-hide\")[3].text)\n",
    "    Deaths=(soup.find_all(\"strong\", class_=\"mob-hide\")[5].text)\n",
    "    notifier = ToastNotifier()\n",
    "    message = \"Active - \"+ (Active) +\" \\nDischarged - \" + (Discharged)+\" \\nDeaths - \"+(Deaths)\n",
    "    notifier.show_toast(title=\"COVID-19 UPDATE\", msg=message, duration=5)\n",
    "    \n",
    "if __name__ == \"__main__\":\n",
    "    while True:\n",
    "        \n",
    "        CovidUpdate()\n",
    "        time.sleep(3600)\n",
    "\n",
    "\n",
    "\n"
   ]
  },
  {
   "cell_type": "code",
   "execution_count": null,
   "metadata": {},
   "outputs": [],
   "source": []
  },
  {
   "cell_type": "code",
   "execution_count": null,
   "metadata": {},
   "outputs": [],
   "source": []
  }
 ],
 "metadata": {
  "kernelspec": {
   "display_name": "Python 3",
   "language": "python",
   "name": "python3"
  },
  "language_info": {
   "codemirror_mode": {
    "name": "ipython",
    "version": 3
   },
   "file_extension": ".py",
   "mimetype": "text/x-python",
   "name": "python",
   "nbconvert_exporter": "python",
   "pygments_lexer": "ipython3",
   "version": "3.8.5"
  }
 },
 "nbformat": 4,
 "nbformat_minor": 4
}
